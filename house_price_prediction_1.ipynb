{
 "cells": [
  {
   "cell_type": "markdown",
   "id": "4b8d43bc-72bb-4795-9e4c-6315fecba7df",
   "metadata": {},
   "source": [
    "# House Price Prediction Regression Project"
   ]
  },
  {
   "cell_type": "markdown",
   "id": "7a361e34-f0d7-4e1e-9199-3cfd8b583313",
   "metadata": {},
   "source": [
    "## Project Goal"
   ]
  },
  {
   "cell_type": "raw",
   "id": "89166b4f-3f09-420c-9286-4029d1243202",
   "metadata": {},
   "source": [
    "predict the price of house by its features. If you are a buyer or seller of the house but you dont know the exact price of the house, so supervised machine learning regression algorithms can help you to predict the price of the house just providing features of the target house."
   ]
  },
  {
   "cell_type": "markdown",
   "id": "eaf4b000-996b-44b3-b888-d772e1d8792b",
   "metadata": {},
   "source": [
    "## Load Modules / Libraries"
   ]
  },
  {
   "cell_type": "code",
   "execution_count": null,
   "id": "722d4eeb-ecaa-4acf-8982-9b7d00481fd8",
   "metadata": {},
   "outputs": [],
   "source": [
    "pip install numpy\n",
    "pip install pandas\n",
    "pip install matplotlib\n",
    "pip install seaborn\n",
    "\n",
    "\n",
    "import numpy as np\n",
    "import pandas as pd\n",
    "import matplotlib.pyplot as plt\n",
    "import seaborn as sns\n"
   ]
  }
 ],
 "metadata": {
  "kernelspec": {
   "display_name": "Python 3 (ipykernel)",
   "language": "python",
   "name": "python3"
  },
  "language_info": {
   "codemirror_mode": {
    "name": "ipython",
    "version": 3
   },
   "file_extension": ".py",
   "mimetype": "text/x-python",
   "name": "python",
   "nbconvert_exporter": "python",
   "pygments_lexer": "ipython3",
   "version": "3.9.13"
  }
 },
 "nbformat": 4,
 "nbformat_minor": 5
}
